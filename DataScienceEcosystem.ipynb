{
 "cells": [
  {
   "cell_type": "markdown",
   "id": "cb44681a-e5d7-448c-b1cf-439d9dffa60f",
   "metadata": {},
   "source": [
    "# Data Science Tools and Ecosystem"
   ]
  },
  {
   "cell_type": "markdown",
   "id": "6bb7be3b-e12b-4100-9d08-a4f3b933699a",
   "metadata": {},
   "source": [
    "In this notebook, Data Science Tools and Ecosystem are summarized."
   ]
  },
  {
   "cell_type": "markdown",
   "id": "e7a39b57-37b9-4eac-8264-4cfb6b1bf631",
   "metadata": {},
   "source": [
    "**Objectives:**\n",
    "1) Review using markdown and code cells in Jupyter Notebook\n",
    "2) Review Coding languages used in Data Science\n",
    "3) Review commonly used libraries in Data Science\n",
    "4) Review IDEs\n",
    "5) Practice running some basic Python code "
   ]
  },
  {
   "cell_type": "markdown",
   "id": "28c1ed05-742f-416b-aa34-912c455201ee",
   "metadata": {},
   "source": [
    "Some of the popular languages that Data Scientists use are:\n",
    "\n",
    "1) Python\n",
    "2) R\n",
    "3) SQL"
   ]
  },
  {
   "cell_type": "markdown",
   "id": "4b9535d0-d01c-47e1-abdc-dcc0fdfae946",
   "metadata": {},
   "source": [
    "Some of the commonly used libraries used by Data Scientists include:\n",
    "\n",
    "1) Pandas (Python)\n",
    "2) NumPy (Python)\n",
    "3) Matplotlib (Python)\n",
    "4) ggplot2 (R)"
   ]
  },
  {
   "cell_type": "markdown",
   "id": "56351bca-a70c-4f2c-b160-d0d681c9f719",
   "metadata": {},
   "source": [
    "|Data Science Tools|\n",
    "-------------------------\n",
    "|Jupyter Notebook|\n",
    "|R Studio|\n",
    "|Apache Zeppelin|"
   ]
  },
  {
   "cell_type": "markdown",
   "id": "46ceac7b-ac70-4141-99f1-a25e5c8a5845",
   "metadata": {},
   "source": [
    "### Below are a few examples of evaluating arithmetic expressions in Python"
   ]
  },
  {
   "cell_type": "code",
   "execution_count": 1,
   "id": "e1a3d586-9faa-4a86-9b5e-2cb7f248fc77",
   "metadata": {},
   "outputs": [
    {
     "data": {
      "text/plain": [
       "17"
      ]
     },
     "execution_count": 1,
     "metadata": {},
     "output_type": "execute_result"
    }
   ],
   "source": [
    "#This a simple arithmetic expression to mutiply then add integers\n",
    "\n",
    "(3*4)+5"
   ]
  },
  {
   "cell_type": "code",
   "execution_count": 2,
   "id": "376ba6d1-057b-40d5-b0f7-22d10719fc5f",
   "metadata": {},
   "outputs": [
    {
     "name": "stdout",
     "output_type": "stream",
     "text": [
      "3.3333333333333335 hours\n"
     ]
    }
   ],
   "source": [
    "#This will convert 200 minutes to hours by diving by 60\n",
    "\n",
    "minutes = 200\n",
    "hours = minutes/60\n",
    "print(hours,'hours')"
   ]
  },
  {
   "cell_type": "markdown",
   "id": "2789df62-0c13-417f-b224-9f839dc4340a",
   "metadata": {},
   "source": [
    "## Author\n",
    "\n",
    "Peter Thomas"
   ]
  },
  {
   "cell_type": "code",
   "execution_count": null,
   "id": "dd28ffac-65e0-43e6-9964-820221485451",
   "metadata": {},
   "outputs": [],
   "source": []
  }
 ],
 "metadata": {
  "kernelspec": {
   "display_name": "Python 3 (ipykernel)",
   "language": "python",
   "name": "python3"
  },
  "language_info": {
   "codemirror_mode": {
    "name": "ipython",
    "version": 3
   },
   "file_extension": ".py",
   "mimetype": "text/x-python",
   "name": "python",
   "nbconvert_exporter": "python",
   "pygments_lexer": "ipython3",
   "version": "3.10.9"
  }
 },
 "nbformat": 4,
 "nbformat_minor": 5
}
